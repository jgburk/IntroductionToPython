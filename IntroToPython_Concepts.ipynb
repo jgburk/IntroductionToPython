{
  "nbformat": 4,
  "nbformat_minor": 0,
  "metadata": {
    "colab": {
      "provenance": []
    },
    "kernelspec": {
      "name": "python3",
      "display_name": "Python 3"
    },
    "language_info": {
      "name": "python"
    }
  },
  "cells": [
    {
      "cell_type": "markdown",
      "source": [
        "# Getting Started"
      ],
      "metadata": {
        "id": "p2cjou0lWeQX"
      }
    },
    {
      "cell_type": "markdown",
      "source": [
        "Let's check our Python version"
      ],
      "metadata": {
        "id": "z9m5V9hiUIb_"
      }
    },
    {
      "cell_type": "code",
      "source": [
        "!python --version"
      ],
      "metadata": {
        "colab": {
          "base_uri": "https://localhost:8080/"
        },
        "id": "vgYIZWl_BeXp",
        "outputId": "8cb2708f-aa95-4fdc-e25c-1395ce3fabc3"
      },
      "execution_count": null,
      "outputs": [
        {
          "output_type": "stream",
          "name": "stdout",
          "text": [
            "Python 3.8.15\n"
          ]
        }
      ]
    },
    {
      "cell_type": "markdown",
      "source": [
        "# Strings"
      ],
      "metadata": {
        "id": "IuEL5CNWapdL"
      }
    },
    {
      "cell_type": "markdown",
      "source": [
        "We can print a simple string"
      ],
      "metadata": {
        "id": "ecqYTX_WUMk2"
      }
    },
    {
      "cell_type": "code",
      "source": [
        "print('hello world')"
      ],
      "metadata": {
        "colab": {
          "base_uri": "https://localhost:8080/"
        },
        "id": "aR7172J7hTt9",
        "outputId": "dfd7de9a-25bb-47de-c6ac-59ed19a6cc03"
      },
      "execution_count": null,
      "outputs": [
        {
          "output_type": "stream",
          "name": "stdout",
          "text": [
            "hello world\n"
          ]
        }
      ]
    },
    {
      "cell_type": "markdown",
      "source": [
        "Comments use #"
      ],
      "metadata": {
        "id": "-btgRPslUPOW"
      }
    },
    {
      "cell_type": "code",
      "source": [
        "# comment 1\n",
        "print('not a comment') # comment 2\n",
        "# comment 3"
      ],
      "metadata": {
        "colab": {
          "base_uri": "https://localhost:8080/"
        },
        "id": "2_Hd010vhmEi",
        "outputId": "c8f2b1c5-3ba3-4ab2-d3b4-2f09c9cfe9d5"
      },
      "execution_count": null,
      "outputs": [
        {
          "output_type": "stream",
          "name": "stdout",
          "text": [
            "not a comment\n"
          ]
        }
      ]
    },
    {
      "cell_type": "markdown",
      "source": [
        "Even when we don't print, we can see a returned value."
      ],
      "metadata": {
        "id": "nuQn__CYUTp2"
      }
    },
    {
      "cell_type": "code",
      "source": [
        "'hello world' # Google colab uses \"IPython\" AKA \"Jypyter\" notebooks which print return values from separate \"blocks\" AKA \"cells\".\n",
        "# The \"blocks\" terminology should be avoided in serious technical discussions so as not to conflate these notebook sections with\n",
        "# computer programming blocks https://en.wikipedia.org/wiki/Block_(programming)."
      ],
      "metadata": {
        "colab": {
          "base_uri": "https://localhost:8080/",
          "height": 35
        },
        "id": "nmUtC4eChgFb",
        "outputId": "42a692bc-80b5-412e-a5f4-3755b7c3da90"
      },
      "execution_count": null,
      "outputs": [
        {
          "output_type": "execute_result",
          "data": {
            "text/plain": [
              "'hello world'"
            ],
            "application/vnd.google.colaboratory.intrinsic+json": {
              "type": "string"
            }
          },
          "metadata": {},
          "execution_count": 6
        }
      ]
    },
    {
      "cell_type": "markdown",
      "source": [
        "Only the last returned value.."
      ],
      "metadata": {
        "id": "FzqoJ4WcUhBv"
      }
    },
    {
      "cell_type": "code",
      "source": [
        "'hello'\n",
        "'world'"
      ],
      "metadata": {
        "colab": {
          "base_uri": "https://localhost:8080/",
          "height": 35
        },
        "id": "1JCoK3EvUeIX",
        "outputId": "0f826166-1453-47cb-dee6-5f8fbf11b84f"
      },
      "execution_count": null,
      "outputs": [
        {
          "output_type": "execute_result",
          "data": {
            "text/plain": [
              "'world'"
            ],
            "application/vnd.google.colaboratory.intrinsic+json": {
              "type": "string"
            }
          },
          "metadata": {},
          "execution_count": 7
        }
      ]
    },
    {
      "cell_type": "markdown",
      "source": [
        "We can check variable types with the type() function."
      ],
      "metadata": {
        "id": "IYiRXXjNUqjH"
      }
    },
    {
      "cell_type": "code",
      "source": [
        "a = 'b'\n",
        "print(a) # we can evaluate and print variables with print()\n",
        "type(a)"
      ],
      "metadata": {
        "colab": {
          "base_uri": "https://localhost:8080/"
        },
        "id": "a7TmBqGrdtTm",
        "outputId": "246be5a1-3292-4edf-fc56-0560573a9c16"
      },
      "execution_count": null,
      "outputs": [
        {
          "output_type": "stream",
          "name": "stdout",
          "text": [
            "b\n"
          ]
        },
        {
          "output_type": "execute_result",
          "data": {
            "text/plain": [
              "str"
            ]
          },
          "metadata": {},
          "execution_count": 8
        }
      ]
    },
    {
      "cell_type": "code",
      "source": [
        "a = \"b\" # double quotes also work\n",
        "print(a)\n",
        "type(a)"
      ],
      "metadata": {
        "colab": {
          "base_uri": "https://localhost:8080/"
        },
        "id": "hgHxnVVO0cx9",
        "outputId": "dca9c733-4566-47fa-bfdc-3864caca674b"
      },
      "execution_count": null,
      "outputs": [
        {
          "output_type": "stream",
          "name": "stdout",
          "text": [
            "b\n"
          ]
        },
        {
          "output_type": "execute_result",
          "data": {
            "text/plain": [
              "str"
            ]
          },
          "metadata": {},
          "execution_count": 9
        }
      ]
    },
    {
      "cell_type": "markdown",
      "source": [
        "Docstrings"
      ],
      "metadata": {
        "id": "r26BT27lUxje"
      }
    },
    {
      "cell_type": "code",
      "source": [
        "a = \"\"\"b\"\"\" # triple quotes also work\n",
        "print(a)\n",
        "type(a)"
      ],
      "metadata": {
        "colab": {
          "base_uri": "https://localhost:8080/"
        },
        "id": "BOuXzAfC0kO1",
        "outputId": "24a88aa7-70c3-4b8d-b77e-279934003546"
      },
      "execution_count": null,
      "outputs": [
        {
          "output_type": "stream",
          "name": "stdout",
          "text": [
            "b\n"
          ]
        },
        {
          "output_type": "execute_result",
          "data": {
            "text/plain": [
              "str"
            ]
          },
          "metadata": {},
          "execution_count": 10
        }
      ]
    },
    {
      "cell_type": "code",
      "source": [
        "a = \"\"\"b\n",
        "is now a\n",
        "multi-line\n",
        "string.\"\"\"\n",
        "print(a)\n",
        "type(a)"
      ],
      "metadata": {
        "colab": {
          "base_uri": "https://localhost:8080/"
        },
        "id": "99fZPWgy0pMN",
        "outputId": "67563fd1-6079-4c8a-e363-371acbaec5ed"
      },
      "execution_count": null,
      "outputs": [
        {
          "output_type": "stream",
          "name": "stdout",
          "text": [
            "b\n",
            "is now a\n",
            "multi-line\n",
            "string.\n"
          ]
        },
        {
          "output_type": "execute_result",
          "data": {
            "text/plain": [
              "str"
            ]
          },
          "metadata": {},
          "execution_count": 11
        }
      ]
    },
    {
      "cell_type": "code",
      "source": [
        "a = \"\"\"b \\\n",
        "is now a \\\n",
        "single-line \\\n",
        "string.\"\"\"\n",
        "print(a)\n",
        "type(a)"
      ],
      "metadata": {
        "colab": {
          "base_uri": "https://localhost:8080/"
        },
        "id": "gmDnnOBA00JV",
        "outputId": "0a8343e4-f445-4dbf-bcd0-94899197894e"
      },
      "execution_count": null,
      "outputs": [
        {
          "output_type": "stream",
          "name": "stdout",
          "text": [
            "b is now a single-line string.\n"
          ]
        },
        {
          "output_type": "execute_result",
          "data": {
            "text/plain": [
              "str"
            ]
          },
          "metadata": {},
          "execution_count": 12
        }
      ]
    },
    {
      "cell_type": "markdown",
      "source": [
        "Single quotes can't be used for multi-line strings"
      ],
      "metadata": {
        "id": "HBi8H4RfUz3m"
      }
    },
    {
      "cell_type": "code",
      "source": [
        "a = \"b\n",
        "ut this is\n",
        "not valid syntax\""
      ],
      "metadata": {
        "colab": {
          "base_uri": "https://localhost:8080/",
          "height": 133
        },
        "id": "ikSJj_mj0-nU",
        "outputId": "c7c473e3-53c7-4c70-e88d-7a6cc365240a"
      },
      "execution_count": null,
      "outputs": [
        {
          "output_type": "error",
          "ename": "SyntaxError",
          "evalue": "ignored",
          "traceback": [
            "\u001b[0;36m  File \u001b[0;32m\"<ipython-input-13-0b4eca5468dd>\"\u001b[0;36m, line \u001b[0;32m1\u001b[0m\n\u001b[0;31m    a = \"b\u001b[0m\n\u001b[0m          ^\u001b[0m\n\u001b[0;31mSyntaxError\u001b[0m\u001b[0;31m:\u001b[0m EOL while scanning string literal\n"
          ]
        }
      ]
    },
    {
      "cell_type": "code",
      "source": [
        "a = \"b\\\n",
        "ut this is \\\n",
        "ok\"\n",
        "print(a)\n",
        "type(a)"
      ],
      "metadata": {
        "colab": {
          "base_uri": "https://localhost:8080/"
        },
        "id": "93FPme_rBgy_",
        "outputId": "c07042ee-387a-4962-e67f-ebc53e889c5d"
      },
      "execution_count": null,
      "outputs": [
        {
          "output_type": "stream",
          "name": "stdout",
          "text": [
            "but this is ok\n"
          ]
        },
        {
          "output_type": "execute_result",
          "data": {
            "text/plain": [
              "str"
            ]
          },
          "metadata": {},
          "execution_count": 14
        }
      ]
    },
    {
      "cell_type": "markdown",
      "source": [
        "E is not a defined variable"
      ],
      "metadata": {
        "id": "JmaQKwkXWTnA"
      }
    },
    {
      "cell_type": "code",
      "source": [
        "type(E)"
      ],
      "metadata": {
        "colab": {
          "base_uri": "https://localhost:8080/",
          "height": 169
        },
        "id": "vgb_syzvO7Aq",
        "outputId": "f4ad8d56-9bc0-4f75-b3fb-f6d8a4afb018"
      },
      "execution_count": null,
      "outputs": [
        {
          "output_type": "error",
          "ename": "NameError",
          "evalue": "ignored",
          "traceback": [
            "\u001b[0;31m---------------------------------------------------------------------------\u001b[0m",
            "\u001b[0;31mNameError\u001b[0m                                 Traceback (most recent call last)",
            "\u001b[0;32m<ipython-input-15-ac33d79262f4>\u001b[0m in \u001b[0;36m<module>\u001b[0;34m\u001b[0m\n\u001b[0;32m----> 1\u001b[0;31m \u001b[0mtype\u001b[0m\u001b[0;34m(\u001b[0m\u001b[0mE\u001b[0m\u001b[0;34m)\u001b[0m\u001b[0;34m\u001b[0m\u001b[0;34m\u001b[0m\u001b[0m\n\u001b[0m",
            "\u001b[0;31mNameError\u001b[0m: name 'E' is not defined"
          ]
        }
      ]
    },
    {
      "cell_type": "markdown",
      "source": [
        "# Numerics"
      ],
      "metadata": {
        "id": "qBX_qcqbWkWp"
      }
    },
    {
      "cell_type": "code",
      "source": [
        "a = 0.1\n",
        "b = 0.5\n",
        "print(a)\n",
        "print(b)\n",
        "print(a == b)"
      ],
      "metadata": {
        "colab": {
          "base_uri": "https://localhost:8080/"
        },
        "id": "XdH6x4uS5VZK",
        "outputId": "8d3e9605-4296-4500-d3a1-8d94b8966be7"
      },
      "execution_count": null,
      "outputs": [
        {
          "output_type": "stream",
          "name": "stdout",
          "text": [
            "0.1\n",
            "0.5\n",
            "False\n"
          ]
        }
      ]
    },
    {
      "cell_type": "code",
      "source": [
        "print(a is b) # tests whether a and b are the same object"
      ],
      "metadata": {
        "colab": {
          "base_uri": "https://localhost:8080/"
        },
        "id": "Y4YBjkCs5pUK",
        "outputId": "1ff93978-fdd6-4fb8-ccad-e4e6773b82ab"
      },
      "execution_count": null,
      "outputs": [
        {
          "output_type": "stream",
          "name": "stdout",
          "text": [
            "False\n"
          ]
        }
      ]
    },
    {
      "cell_type": "code",
      "source": [
        "c = 0.1\n",
        "print(a)\n",
        "print(c)\n",
        "print(a is c)\n",
        "print(a == c)"
      ],
      "metadata": {
        "colab": {
          "base_uri": "https://localhost:8080/"
        },
        "id": "iFApavjw5rFa",
        "outputId": "bd3fd857-90bf-4e18-ec9d-3ed4457a6eb5"
      },
      "execution_count": null,
      "outputs": [
        {
          "output_type": "stream",
          "name": "stdout",
          "text": [
            "0.1\n",
            "0.1\n",
            "False\n",
            "True\n"
          ]
        }
      ]
    },
    {
      "cell_type": "code",
      "source": [
        "c = a\n",
        "print(a is c)"
      ],
      "metadata": {
        "colab": {
          "base_uri": "https://localhost:8080/"
        },
        "id": "6dD_z0OV58NS",
        "outputId": "d821d78c-0a2a-41a2-ecf0-fa31bb100563"
      },
      "execution_count": null,
      "outputs": [
        {
          "output_type": "stream",
          "name": "stdout",
          "text": [
            "True\n"
          ]
        }
      ]
    },
    {
      "cell_type": "code",
      "source": [
        "print(a)\n",
        "print(b)"
      ],
      "metadata": {
        "colab": {
          "base_uri": "https://localhost:8080/"
        },
        "id": "HAgPoHhQNjSC",
        "outputId": "dcae4356-b65e-494c-95d8-863264540745"
      },
      "execution_count": null,
      "outputs": [
        {
          "output_type": "stream",
          "name": "stdout",
          "text": [
            "0.1\n",
            "0.5\n"
          ]
        }
      ]
    },
    {
      "cell_type": "code",
      "source": [
        "print(type(a))\n",
        "print(type(b))\n",
        "print(type(a) is type(b))"
      ],
      "metadata": {
        "colab": {
          "base_uri": "https://localhost:8080/"
        },
        "id": "vjvbnUiq6Jta",
        "outputId": "7927addc-c491-4308-aad2-070cfbedee2a"
      },
      "execution_count": null,
      "outputs": [
        {
          "output_type": "stream",
          "name": "stdout",
          "text": [
            "<class 'float'>\n",
            "<class 'float'>\n",
            "True\n"
          ]
        }
      ]
    },
    {
      "cell_type": "code",
      "source": [
        "a = 1\n",
        "type(a)"
      ],
      "metadata": {
        "colab": {
          "base_uri": "https://localhost:8080/"
        },
        "id": "xpmvp7Yddp_o",
        "outputId": "f1dc95db-b52e-421e-f75b-43fd747caf6f"
      },
      "execution_count": null,
      "outputs": [
        {
          "output_type": "execute_result",
          "data": {
            "text/plain": [
              "int"
            ]
          },
          "metadata": {},
          "execution_count": 24
        }
      ]
    },
    {
      "cell_type": "code",
      "source": [
        "a = 1.01\n",
        "type(a)"
      ],
      "metadata": {
        "colab": {
          "base_uri": "https://localhost:8080/"
        },
        "id": "oLfJrMyFBtE3",
        "outputId": "5205406c-12f8-4aff-e636-2618e9f401ca"
      },
      "execution_count": null,
      "outputs": [
        {
          "output_type": "execute_result",
          "data": {
            "text/plain": [
              "float"
            ]
          },
          "metadata": {},
          "execution_count": 25
        }
      ]
    },
    {
      "cell_type": "code",
      "source": [
        "a = b'\\x00\\x10'\n",
        "type(a)"
      ],
      "metadata": {
        "colab": {
          "base_uri": "https://localhost:8080/"
        },
        "id": "iDwQrdPSd_62",
        "outputId": "6b296c2b-e950-47fb-a8dc-38b9dc85c8dc"
      },
      "execution_count": null,
      "outputs": [
        {
          "output_type": "execute_result",
          "data": {
            "text/plain": [
              "bytes"
            ]
          },
          "metadata": {},
          "execution_count": 26
        }
      ]
    },
    {
      "cell_type": "code",
      "source": [
        "print(f'a == 16? {a == 16}')\n",
        "print(f'a = {a}')\n",
        "print(f'len(a) = {len(a)}')\n",
        "print(f'a[0] = {a[0]} = {bin(a[0])}')\n",
        "print(f'a[1] = {a[1]} = {bin(a[1])}')\n"
      ],
      "metadata": {
        "colab": {
          "base_uri": "https://localhost:8080/"
        },
        "id": "K_1_W_SIfDut",
        "outputId": "26531f59-880b-429a-d0c5-ba4c0418fa8f"
      },
      "execution_count": null,
      "outputs": [
        {
          "output_type": "stream",
          "name": "stdout",
          "text": [
            "a == 16? False\n",
            "a = b'\\x00\\x10'\n",
            "len(a) = 2\n",
            "a[0] = 0 = 0b0\n",
            "a[1] = 16 = 0b10000\n"
          ]
        }
      ]
    },
    {
      "cell_type": "markdown",
      "source": [
        "Endianness"
      ],
      "metadata": {
        "id": "utLW2E9oVIFW"
      }
    },
    {
      "cell_type": "code",
      "source": [
        "# endianness is the byte order (big or little)\n",
        "c = int.from_bytes(a,\"big\")     # big-endian means most significant byte is at lowest index\n",
        "print(f'c == 16? {c == 16}')\n",
        "d = int.from_bytes(a,\"little\")  # little-endian means most significant byte is at the highest index\n",
        "print(f'd == {d}')"
      ],
      "metadata": {
        "colab": {
          "base_uri": "https://localhost:8080/"
        },
        "id": "oyTbOoa_cXt3",
        "outputId": "a35660c9-693b-4f9e-b7b0-e35c4c73147b"
      },
      "execution_count": null,
      "outputs": [
        {
          "output_type": "stream",
          "name": "stdout",
          "text": [
            "c == 16? True\n",
            "d == 4096\n"
          ]
        }
      ]
    },
    {
      "cell_type": "code",
      "source": [
        "a = 100\n",
        "print(f'1. a is equal to {a}')                        # the f-strings mechanism is how we're going to interpolate strings here\n",
        "print(\"2. a is equal to\",a)                           # space character is the default separator\n",
        "print(\"3. a is equal to \",a,sep=\"\")                   # we can set the separator with sep=\n",
        "print(\"4. a is equal to {a_value}\".format(a_value=a)) # we can name parameters and use .format()\n",
        "print(\"5. a is equal to %s\" % a)                      # the old way"
      ],
      "metadata": {
        "id": "d8ygXzBRaJxB",
        "colab": {
          "base_uri": "https://localhost:8080/"
        },
        "outputId": "20484f8e-7c1c-466e-82fd-e73c324ccf30"
      },
      "execution_count": null,
      "outputs": [
        {
          "output_type": "stream",
          "name": "stdout",
          "text": [
            "1. a is equal to 100\n",
            "2. a is equal to 100\n",
            "3. a is equal to 100\n",
            "4. a is equal to 100\n",
            "5. a is equal to 100\n"
          ]
        }
      ]
    },
    {
      "cell_type": "markdown",
      "source": [
        "Numeric operations"
      ],
      "metadata": {
        "id": "QEBIgk1HVKse"
      }
    },
    {
      "cell_type": "code",
      "source": [
        "print(2 + 3)  # addition\n",
        "print(2 * 3)  # multiplication\n",
        "print(2 - 3)  # subtraction\n",
        "print(2 / 3)  # division (INTEGER DIVISON IN PYTHON 2)\n",
        "print(2 // 3) # integer division\n",
        "print(2 ** 3) # power\n",
        "print(2 % 3)  # modulus"
      ],
      "metadata": {
        "colab": {
          "base_uri": "https://localhost:8080/"
        },
        "id": "rAN0nqcXB1yq",
        "outputId": "b260deb6-ede9-47ca-ea15-aae4b9a2b745"
      },
      "execution_count": null,
      "outputs": [
        {
          "output_type": "stream",
          "name": "stdout",
          "text": [
            "5\n",
            "6\n",
            "-1\n",
            "0.6666666666666666\n",
            "0\n",
            "8\n",
            "2\n"
          ]
        }
      ]
    },
    {
      "cell_type": "markdown",
      "source": [
        "Python doesn't have the technology to divide by zero"
      ],
      "metadata": {
        "id": "MMlqJUdWVNAe"
      }
    },
    {
      "cell_type": "code",
      "source": [
        "z = 1/0"
      ],
      "metadata": {
        "colab": {
          "base_uri": "https://localhost:8080/",
          "height": 169
        },
        "id": "yqgutix8VEjf",
        "outputId": "fd0be190-ff0b-42a8-80f9-f73f39ea57b4"
      },
      "execution_count": null,
      "outputs": [
        {
          "output_type": "error",
          "ename": "ZeroDivisionError",
          "evalue": "ignored",
          "traceback": [
            "\u001b[0;31m---------------------------------------------------------------------------\u001b[0m",
            "\u001b[0;31mZeroDivisionError\u001b[0m                         Traceback (most recent call last)",
            "\u001b[0;32m<ipython-input-31-c4a2a9b4b376>\u001b[0m in \u001b[0;36m<module>\u001b[0;34m\u001b[0m\n\u001b[0;32m----> 1\u001b[0;31m \u001b[0mz\u001b[0m \u001b[0;34m=\u001b[0m \u001b[0;36m1\u001b[0m\u001b[0;34m/\u001b[0m\u001b[0;36m0\u001b[0m\u001b[0;34m\u001b[0m\u001b[0;34m\u001b[0m\u001b[0m\n\u001b[0m",
            "\u001b[0;31mZeroDivisionError\u001b[0m: division by zero"
          ]
        }
      ]
    },
    {
      "cell_type": "code",
      "source": [
        "z = 12\n",
        "print(z)\n",
        "z += 5\n",
        "print(z)\n",
        "z /= 5\n",
        "print(z)\n",
        "z **= 2\n",
        "print(z)"
      ],
      "metadata": {
        "colab": {
          "base_uri": "https://localhost:8080/"
        },
        "id": "LzXvo5nECel_",
        "outputId": "ff78b0b1-ea2c-415c-c49f-dea3a3779689"
      },
      "execution_count": null,
      "outputs": [
        {
          "output_type": "stream",
          "name": "stdout",
          "text": [
            "12\n",
            "17\n",
            "3.4\n",
            "11.559999999999999\n"
          ]
        }
      ]
    },
    {
      "cell_type": "markdown",
      "source": [
        "Sometimes we have to use both single and double quotes"
      ],
      "metadata": {
        "id": "KzEElYbfVTav"
      }
    },
    {
      "cell_type": "code",
      "source": [
        "z = float('inf')\n",
        "z /= 2\n",
        "print(z)\n",
        "z /= z\n",
        "print(z)\n",
        "print(f'is z nan? {z != z}')\n",
        "\n",
        "print(f\"is nan equal to nan? {float('nan') == float('nan')}\") #note single and double quotes are required here"
      ],
      "metadata": {
        "colab": {
          "base_uri": "https://localhost:8080/"
        },
        "id": "aLU2r3iyV_hS",
        "outputId": "b4984c0b-6c2b-4c25-b122-09d75e97788d"
      },
      "execution_count": null,
      "outputs": [
        {
          "output_type": "stream",
          "name": "stdout",
          "text": [
            "inf\n",
            "nan\n",
            "is z nan? True\n",
            "is nan equal to nan? False\n"
          ]
        }
      ]
    },
    {
      "cell_type": "markdown",
      "source": [
        "int() is used to create int from other types... similar functions exist for other types"
      ],
      "metadata": {
        "id": "5LNAkkMiXGS-"
      }
    },
    {
      "cell_type": "code",
      "source": [
        "z = float(5.5)\n",
        "type(z)"
      ],
      "metadata": {
        "colab": {
          "base_uri": "https://localhost:8080/"
        },
        "id": "C704awg3aOfm",
        "outputId": "c7636deb-91a1-4024-eeb1-1bde86823d3d"
      },
      "execution_count": null,
      "outputs": [
        {
          "output_type": "execute_result",
          "data": {
            "text/plain": [
              "float"
            ]
          },
          "metadata": {},
          "execution_count": 35
        }
      ]
    },
    {
      "cell_type": "code",
      "source": [
        "b = int(z)\n",
        "type(b)"
      ],
      "metadata": {
        "colab": {
          "base_uri": "https://localhost:8080/"
        },
        "id": "5OF1oRxcaRlk",
        "outputId": "3ac70cbb-b8a4-4ec4-d424-422f0d666f59"
      },
      "execution_count": null,
      "outputs": [
        {
          "output_type": "execute_result",
          "data": {
            "text/plain": [
              "int"
            ]
          },
          "metadata": {},
          "execution_count": 36
        }
      ]
    },
    {
      "cell_type": "code",
      "source": [
        "print(int(5.5))"
      ],
      "metadata": {
        "colab": {
          "base_uri": "https://localhost:8080/"
        },
        "id": "lj1ukDrBJv_c",
        "outputId": "95d21b32-e082-4457-8929-1d63d73f6950"
      },
      "execution_count": null,
      "outputs": [
        {
          "output_type": "stream",
          "name": "stdout",
          "text": [
            "5\n"
          ]
        }
      ]
    },
    {
      "cell_type": "code",
      "source": [
        "print(int(5.9))"
      ],
      "metadata": {
        "colab": {
          "base_uri": "https://localhost:8080/"
        },
        "id": "b9GaGsOBJ0zG",
        "outputId": "e511833a-d0c7-4ab9-e165-af9b32b7a265"
      },
      "execution_count": null,
      "outputs": [
        {
          "output_type": "stream",
          "name": "stdout",
          "text": [
            "5\n"
          ]
        }
      ]
    },
    {
      "cell_type": "code",
      "source": [
        "print(int(6.0000000000001))"
      ],
      "metadata": {
        "colab": {
          "base_uri": "https://localhost:8080/"
        },
        "id": "xsSkSdVpJ2-E",
        "outputId": "3f9a7e2f-3356-474f-8b19-5bb4ab114340"
      },
      "execution_count": null,
      "outputs": [
        {
          "output_type": "stream",
          "name": "stdout",
          "text": [
            "6\n"
          ]
        }
      ]
    },
    {
      "cell_type": "code",
      "source": [
        "print(int(-5.5)) # rounding toward 0"
      ],
      "metadata": {
        "colab": {
          "base_uri": "https://localhost:8080/"
        },
        "id": "V1ejPaiZJ9xL",
        "outputId": "59e73755-3f64-4de4-e0ee-a6e9029be578"
      },
      "execution_count": null,
      "outputs": [
        {
          "output_type": "stream",
          "name": "stdout",
          "text": [
            "-5\n"
          ]
        }
      ]
    },
    {
      "cell_type": "markdown",
      "source": [
        "# Booleans"
      ],
      "metadata": {
        "id": "Db44Aqg_WHmV"
      }
    },
    {
      "cell_type": "code",
      "source": [
        "tx = True\n",
        "fx = False\n",
        "type(tx)"
      ],
      "metadata": {
        "colab": {
          "base_uri": "https://localhost:8080/"
        },
        "id": "9TSZLw7jCzc3",
        "outputId": "6a39bb10-4ed7-4f73-eec4-27b54f730c17"
      },
      "execution_count": null,
      "outputs": [
        {
          "output_type": "execute_result",
          "data": {
            "text/plain": [
              "bool"
            ]
          },
          "metadata": {},
          "execution_count": 41
        }
      ]
    },
    {
      "cell_type": "code",
      "source": [
        "print(tx^fx) # bitwise XOR"
      ],
      "metadata": {
        "colab": {
          "base_uri": "https://localhost:8080/"
        },
        "id": "a75unYglC_M3",
        "outputId": "33ef9af6-dd4e-455a-e24e-4b5613186022"
      },
      "execution_count": null,
      "outputs": [
        {
          "output_type": "stream",
          "name": "stdout",
          "text": [
            "True\n"
          ]
        }
      ]
    },
    {
      "cell_type": "code",
      "source": [
        "print(tx != fx) # logical XOR"
      ],
      "metadata": {
        "colab": {
          "base_uri": "https://localhost:8080/"
        },
        "id": "YieLSI84DjBW",
        "outputId": "d11cc500-9e83-4d33-ad8f-0d2c4cf807ba"
      },
      "execution_count": null,
      "outputs": [
        {
          "output_type": "stream",
          "name": "stdout",
          "text": [
            "True\n"
          ]
        }
      ]
    },
    {
      "cell_type": "code",
      "source": [
        "print(0^0)\n",
        "print(0^1)\n",
        "print(1^0)\n",
        "print(1^1)"
      ],
      "metadata": {
        "colab": {
          "base_uri": "https://localhost:8080/"
        },
        "id": "Zh5bsWF4DSzW",
        "outputId": "528b9cd5-7457-46bd-e140-3f93936d67d6"
      },
      "execution_count": null,
      "outputs": [
        {
          "output_type": "stream",
          "name": "stdout",
          "text": [
            "0\n",
            "1\n",
            "1\n",
            "0\n"
          ]
        }
      ]
    },
    {
      "cell_type": "code",
      "source": [
        "print(0 != 0)\n",
        "print(0 != 1)\n",
        "print(1 != 0)\n",
        "print(1 != 1)"
      ],
      "metadata": {
        "colab": {
          "base_uri": "https://localhost:8080/"
        },
        "id": "GiS9NMDyDlcm",
        "outputId": "060fc3aa-1419-4e89-b36a-f7445d9f0aed"
      },
      "execution_count": null,
      "outputs": [
        {
          "output_type": "stream",
          "name": "stdout",
          "text": [
            "False\n",
            "True\n",
            "True\n",
            "False\n"
          ]
        }
      ]
    },
    {
      "cell_type": "code",
      "source": [
        "print(tx or fx)"
      ],
      "metadata": {
        "colab": {
          "base_uri": "https://localhost:8080/"
        },
        "id": "NMK88KFmDDq3",
        "outputId": "d6e09141-c612-4708-d370-32445da75da5"
      },
      "execution_count": null,
      "outputs": [
        {
          "output_type": "stream",
          "name": "stdout",
          "text": [
            "True\n"
          ]
        }
      ]
    },
    {
      "cell_type": "code",
      "source": [
        "print(0 or 0)\n",
        "print(0 or 1)\n",
        "print(1 or 0)\n",
        "print(1 or 1)"
      ],
      "metadata": {
        "colab": {
          "base_uri": "https://localhost:8080/"
        },
        "id": "JMV5WBptDZY2",
        "outputId": "e4a18c4e-7df4-4e7b-95fb-22624ca70ba6"
      },
      "execution_count": null,
      "outputs": [
        {
          "output_type": "stream",
          "name": "stdout",
          "text": [
            "0\n",
            "1\n",
            "1\n",
            "1\n"
          ]
        }
      ]
    },
    {
      "cell_type": "code",
      "source": [
        "print(tx and fx)"
      ],
      "metadata": {
        "colab": {
          "base_uri": "https://localhost:8080/"
        },
        "id": "4GL5MYXlDQL3",
        "outputId": "a7e35ba9-faf6-4c6b-f7dd-2b7c5237f171"
      },
      "execution_count": null,
      "outputs": [
        {
          "output_type": "stream",
          "name": "stdout",
          "text": [
            "False\n"
          ]
        }
      ]
    },
    {
      "cell_type": "code",
      "source": [
        "print(0 and 0)\n",
        "print(0 and 1)\n",
        "print(1 and 0)\n",
        "print(1 and 1)"
      ],
      "metadata": {
        "colab": {
          "base_uri": "https://localhost:8080/"
        },
        "id": "rPOxjJrjDHRW",
        "outputId": "a28409d1-17c3-4d90-8926-f89e6d6d7992"
      },
      "execution_count": null,
      "outputs": [
        {
          "output_type": "stream",
          "name": "stdout",
          "text": [
            "0\n",
            "0\n",
            "0\n",
            "1\n"
          ]
        }
      ]
    },
    {
      "cell_type": "code",
      "source": [
        "print(not tx)\n",
        "print(not fx)"
      ],
      "metadata": {
        "colab": {
          "base_uri": "https://localhost:8080/"
        },
        "id": "Gx8EapXID3V3",
        "outputId": "47def202-de0b-4c04-fa9d-e1937fc27da9"
      },
      "execution_count": null,
      "outputs": [
        {
          "output_type": "stream",
          "name": "stdout",
          "text": [
            "False\n",
            "True\n"
          ]
        }
      ]
    },
    {
      "cell_type": "code",
      "source": [
        "print(not 1)\n",
        "print(not 0)"
      ],
      "metadata": {
        "colab": {
          "base_uri": "https://localhost:8080/"
        },
        "id": "OYaptZQwD7bu",
        "outputId": "a1a0f74a-bbe5-4eb6-e154-40d927ef301f"
      },
      "execution_count": null,
      "outputs": [
        {
          "output_type": "stream",
          "name": "stdout",
          "text": [
            "False\n",
            "True\n"
          ]
        }
      ]
    },
    {
      "cell_type": "markdown",
      "source": [
        "# Lists"
      ],
      "metadata": {
        "id": "DTpG8FBMWDNg"
      }
    },
    {
      "cell_type": "code",
      "source": [
        "z = [1,2]\n",
        "type(z)"
      ],
      "metadata": {
        "colab": {
          "base_uri": "https://localhost:8080/"
        },
        "id": "NT9NNvPedZI_",
        "outputId": "79f7b7da-8f98-4463-f135-25325aaee560"
      },
      "execution_count": null,
      "outputs": [
        {
          "output_type": "execute_result",
          "data": {
            "text/plain": [
              "list"
            ]
          },
          "metadata": {},
          "execution_count": 52
        }
      ]
    },
    {
      "cell_type": "code",
      "source": [
        "len(z)"
      ],
      "metadata": {
        "colab": {
          "base_uri": "https://localhost:8080/"
        },
        "id": "_kSvwhFSgopt",
        "outputId": "9fcaa440-14c6-4e50-b909-8055d0b374ca"
      },
      "execution_count": null,
      "outputs": [
        {
          "output_type": "execute_result",
          "data": {
            "text/plain": [
              "2"
            ]
          },
          "metadata": {},
          "execution_count": 53
        }
      ]
    },
    {
      "cell_type": "code",
      "source": [
        "print(z)\n",
        "print(bool(z))"
      ],
      "metadata": {
        "colab": {
          "base_uri": "https://localhost:8080/"
        },
        "id": "SwNIOgQH7hUZ",
        "outputId": "09f0820b-93c3-483e-e89d-00cc529dbc09"
      },
      "execution_count": null,
      "outputs": [
        {
          "output_type": "stream",
          "name": "stdout",
          "text": [
            "[1, 2]\n",
            "True\n"
          ]
        }
      ]
    },
    {
      "cell_type": "code",
      "source": [
        "z[0:2]"
      ],
      "metadata": {
        "colab": {
          "base_uri": "https://localhost:8080/"
        },
        "id": "zaZSlwtRg0jK",
        "outputId": "712d114a-1c1c-427d-ba83-dd21ae660f02"
      },
      "execution_count": null,
      "outputs": [
        {
          "output_type": "execute_result",
          "data": {
            "text/plain": [
              "[1, 2]"
            ]
          },
          "metadata": {},
          "execution_count": 55
        }
      ]
    },
    {
      "cell_type": "code",
      "source": [
        "z[0:1]"
      ],
      "metadata": {
        "colab": {
          "base_uri": "https://localhost:8080/"
        },
        "id": "S3g0OO2igxWt",
        "outputId": "9500523b-2488-4b4c-aeaa-3a03820566d5"
      },
      "execution_count": null,
      "outputs": [
        {
          "output_type": "execute_result",
          "data": {
            "text/plain": [
              "[1]"
            ]
          },
          "metadata": {},
          "execution_count": 56
        }
      ]
    },
    {
      "cell_type": "code",
      "source": [
        "z[1:2]"
      ],
      "metadata": {
        "colab": {
          "base_uri": "https://localhost:8080/"
        },
        "id": "E2p5G6W2gs9g",
        "outputId": "287b5470-51f0-43e1-8437-72e3808f5e7e"
      },
      "execution_count": null,
      "outputs": [
        {
          "output_type": "execute_result",
          "data": {
            "text/plain": [
              "[2]"
            ]
          },
          "metadata": {},
          "execution_count": 57
        }
      ]
    },
    {
      "cell_type": "code",
      "source": [
        "print(f'z[0] == {z[0]}')\n",
        "print(f'z[1] == {z[1]}')"
      ],
      "metadata": {
        "colab": {
          "base_uri": "https://localhost:8080/"
        },
        "id": "m_sr5S1-fuws",
        "outputId": "e973061f-b295-4966-bd0e-47c96d41a1ba"
      },
      "execution_count": null,
      "outputs": [
        {
          "output_type": "stream",
          "name": "stdout",
          "text": [
            "z[0] == 1\n",
            "z[1] == 2\n"
          ]
        }
      ]
    },
    {
      "cell_type": "markdown",
      "source": [
        "index -0 is the same as 0"
      ],
      "metadata": {
        "id": "BY6tg_D7VvgO"
      }
    },
    {
      "cell_type": "code",
      "source": [
        "print(f'z[-0] == {z[-0]}')"
      ],
      "metadata": {
        "colab": {
          "base_uri": "https://localhost:8080/"
        },
        "id": "_PYPSJhEgVOv",
        "outputId": "0ad78539-2951-49c1-9537-a603553eae13"
      },
      "execution_count": null,
      "outputs": [
        {
          "output_type": "stream",
          "name": "stdout",
          "text": [
            "z[-0] == 1\n"
          ]
        }
      ]
    },
    {
      "cell_type": "code",
      "source": [
        "print(f'z[-1] == {z[-1]}') # same as z[1]\n",
        "print(f'z[-2] == {z[-2]}') # same as z[0]"
      ],
      "metadata": {
        "colab": {
          "base_uri": "https://localhost:8080/"
        },
        "id": "IWudLWUkgGg6",
        "outputId": "589f1a04-a653-4fc3-b80d-3a5435cede35"
      },
      "execution_count": null,
      "outputs": [
        {
          "output_type": "stream",
          "name": "stdout",
          "text": [
            "z[-1] == 2\n",
            "z[-2] == 1\n"
          ]
        }
      ]
    },
    {
      "cell_type": "markdown",
      "source": [
        "z doesn't have an index after 1"
      ],
      "metadata": {
        "id": "Pq5mknwHVY_G"
      }
    },
    {
      "cell_type": "code",
      "source": [
        "print(f'z[2] == {z[2]}')"
      ],
      "metadata": {
        "colab": {
          "base_uri": "https://localhost:8080/",
          "height": 169
        },
        "id": "xYth9YxCgDyl",
        "outputId": "6b934af0-dd76-40d4-92fe-e79e4008071b"
      },
      "execution_count": null,
      "outputs": [
        {
          "output_type": "error",
          "ename": "IndexError",
          "evalue": "ignored",
          "traceback": [
            "\u001b[0;31m---------------------------------------------------------------------------\u001b[0m",
            "\u001b[0;31mIndexError\u001b[0m                                Traceback (most recent call last)",
            "\u001b[0;32m<ipython-input-61-5783405fbab2>\u001b[0m in \u001b[0;36m<module>\u001b[0;34m\u001b[0m\n\u001b[0;32m----> 1\u001b[0;31m \u001b[0mprint\u001b[0m\u001b[0;34m(\u001b[0m\u001b[0;34mf'z[2] == {z[2]}'\u001b[0m\u001b[0;34m)\u001b[0m\u001b[0;34m\u001b[0m\u001b[0;34m\u001b[0m\u001b[0m\n\u001b[0m",
            "\u001b[0;31mIndexError\u001b[0m: list index out of range"
          ]
        }
      ]
    },
    {
      "cell_type": "markdown",
      "source": [
        "z also doesn't have an index before 0"
      ],
      "metadata": {
        "id": "fFBa9WA7Vjfp"
      }
    },
    {
      "cell_type": "code",
      "source": [
        "print(f'z[-3] == {z[-3]}')"
      ],
      "metadata": {
        "colab": {
          "base_uri": "https://localhost:8080/",
          "height": 169
        },
        "id": "VM7yVRhkgcnj",
        "outputId": "b51bd16e-7826-4e2e-dfad-8e1aa0749332"
      },
      "execution_count": null,
      "outputs": [
        {
          "output_type": "error",
          "ename": "IndexError",
          "evalue": "ignored",
          "traceback": [
            "\u001b[0;31m---------------------------------------------------------------------------\u001b[0m",
            "\u001b[0;31mIndexError\u001b[0m                                Traceback (most recent call last)",
            "\u001b[0;32m<ipython-input-62-29a51dcfcff9>\u001b[0m in \u001b[0;36m<module>\u001b[0;34m\u001b[0m\n\u001b[0;32m----> 1\u001b[0;31m \u001b[0mprint\u001b[0m\u001b[0;34m(\u001b[0m\u001b[0;34mf'z[-3] == {z[-3]}'\u001b[0m\u001b[0;34m)\u001b[0m\u001b[0;34m\u001b[0m\u001b[0;34m\u001b[0m\u001b[0m\n\u001b[0m",
            "\u001b[0;31mIndexError\u001b[0m: list index out of range"
          ]
        }
      ]
    },
    {
      "cell_type": "code",
      "source": [
        "x = [1,2,3,4,5,6,7,8,9,10]\n",
        "print(f'x[0:5:2] is {x[0:5:2]}')\n",
        "print(f'x[0:10:3] is {x[0:10:3]}')"
      ],
      "metadata": {
        "colab": {
          "base_uri": "https://localhost:8080/"
        },
        "id": "Umq53NVR960U",
        "outputId": "b2519a27-d796-4dfa-bc91-28690d878584"
      },
      "execution_count": null,
      "outputs": [
        {
          "output_type": "stream",
          "name": "stdout",
          "text": [
            "x[0:5:2] is [1, 3, 5]\n",
            "x[0:10:3] is [1, 4, 7, 10]\n"
          ]
        }
      ]
    },
    {
      "cell_type": "code",
      "source": [
        "z = [1,2]\n",
        "x = [1,2]\n",
        "print(f'z == x? {z == x}')\n",
        "x[0] = 100\n",
        "print(f'z == x? {z == x}')\n",
        "print(f'x == {x}')"
      ],
      "metadata": {
        "colab": {
          "base_uri": "https://localhost:8080/"
        },
        "id": "xh-Z5Ph1qcNm",
        "outputId": "3c809a16-6171-4c72-ccaf-0050a2167461"
      },
      "execution_count": null,
      "outputs": [
        {
          "output_type": "stream",
          "name": "stdout",
          "text": [
            "z == x? True\n",
            "z == x? False\n",
            "x == [100, 2]\n"
          ]
        }
      ]
    },
    {
      "cell_type": "markdown",
      "source": [
        "# Tuples"
      ],
      "metadata": {
        "id": "5UFR1b2UWAQm"
      }
    },
    {
      "cell_type": "code",
      "source": [
        "z = (1,2)\n",
        "type(z)"
      ],
      "metadata": {
        "colab": {
          "base_uri": "https://localhost:8080/"
        },
        "id": "llsOJCI_nBZQ",
        "outputId": "c25d4a34-5233-4537-991b-907e6818119a"
      },
      "execution_count": null,
      "outputs": [
        {
          "output_type": "execute_result",
          "data": {
            "text/plain": [
              "tuple"
            ]
          },
          "metadata": {},
          "execution_count": 65
        }
      ]
    },
    {
      "cell_type": "code",
      "source": [
        "z = (1)\n",
        "type(z)"
      ],
      "metadata": {
        "colab": {
          "base_uri": "https://localhost:8080/"
        },
        "id": "hRq5_kCGQbnJ",
        "outputId": "6d0bc3e7-3d8c-4f91-e2c1-5fad645fe700"
      },
      "execution_count": null,
      "outputs": [
        {
          "output_type": "execute_result",
          "data": {
            "text/plain": [
              "int"
            ]
          },
          "metadata": {},
          "execution_count": 66
        }
      ]
    },
    {
      "cell_type": "code",
      "source": [
        "z = (1,)\n",
        "type(z)"
      ],
      "metadata": {
        "colab": {
          "base_uri": "https://localhost:8080/"
        },
        "id": "pjKRy6BCQeHB",
        "outputId": "27e80e10-a0ee-4494-bead-524b9a52d92c"
      },
      "execution_count": null,
      "outputs": [
        {
          "output_type": "execute_result",
          "data": {
            "text/plain": [
              "tuple"
            ]
          },
          "metadata": {},
          "execution_count": 67
        }
      ]
    },
    {
      "cell_type": "code",
      "source": [
        "x = (1,2)\n",
        "print(f'z == x? {z == x}')"
      ],
      "metadata": {
        "colab": {
          "base_uri": "https://localhost:8080/"
        },
        "id": "QvLoown0nEH4",
        "outputId": "51ed1b8d-e69b-4452-e381-7dd0cc275617"
      },
      "execution_count": null,
      "outputs": [
        {
          "output_type": "stream",
          "name": "stdout",
          "text": [
            "z == x? False\n"
          ]
        }
      ]
    },
    {
      "cell_type": "code",
      "source": [
        "z = (1,2,2,2)\n",
        "print(z)"
      ],
      "metadata": {
        "colab": {
          "base_uri": "https://localhost:8080/"
        },
        "id": "mDQdjNqfTp4Y",
        "outputId": "275212c7-3fd2-46ac-8715-25070b64b829"
      },
      "execution_count": null,
      "outputs": [
        {
          "output_type": "stream",
          "name": "stdout",
          "text": [
            "(1, 2, 2, 2)\n"
          ]
        }
      ]
    },
    {
      "cell_type": "code",
      "source": [
        "x[0] = 100"
      ],
      "metadata": {
        "colab": {
          "base_uri": "https://localhost:8080/",
          "height": 169
        },
        "id": "kjm6248qr5EH",
        "outputId": "344dbb6f-02ef-4850-8e2b-367403c4b2e3"
      },
      "execution_count": null,
      "outputs": [
        {
          "output_type": "error",
          "ename": "TypeError",
          "evalue": "ignored",
          "traceback": [
            "\u001b[0;31m---------------------------------------------------------------------------\u001b[0m",
            "\u001b[0;31mTypeError\u001b[0m                                 Traceback (most recent call last)",
            "\u001b[0;32m<ipython-input-69-26e9045881a6>\u001b[0m in \u001b[0;36m<module>\u001b[0;34m\u001b[0m\n\u001b[0;32m----> 1\u001b[0;31m \u001b[0mx\u001b[0m\u001b[0;34m[\u001b[0m\u001b[0;36m0\u001b[0m\u001b[0;34m]\u001b[0m \u001b[0;34m=\u001b[0m \u001b[0;36m100\u001b[0m\u001b[0;34m\u001b[0m\u001b[0;34m\u001b[0m\u001b[0m\n\u001b[0m",
            "\u001b[0;31mTypeError\u001b[0m: 'tuple' object does not support item assignment"
          ]
        }
      ]
    },
    {
      "cell_type": "markdown",
      "source": [
        "# Dictionaries"
      ],
      "metadata": {
        "id": "B3sw-fliW8hW"
      }
    },
    {
      "cell_type": "code",
      "source": [
        "A = dict(key1=1, key2=2)\n",
        "A[\"key3\"] = 300\n",
        "Y = A[\"key2\"] # double quotes\n",
        "Z = A[\"key3\"]\n",
        "print(Y)\n",
        "print(Z)"
      ],
      "metadata": {
        "colab": {
          "base_uri": "https://localhost:8080/"
        },
        "id": "z_Ws4sx-GxdE",
        "outputId": "655f7e90-8fa8-4e80-cb0a-20414ad9b7c1"
      },
      "execution_count": null,
      "outputs": [
        {
          "output_type": "stream",
          "name": "stdout",
          "text": [
            "2\n",
            "300\n"
          ]
        }
      ]
    },
    {
      "cell_type": "code",
      "source": [
        "example_dictionary = {'key1':'value1', 'key2':'value2', 1000:'value_9000'} # curly braces may be used instead of dict()\n",
        "print(example_dictionary['key1']) # single quotes\n",
        "print(example_dictionary[1000])"
      ],
      "metadata": {
        "colab": {
          "base_uri": "https://localhost:8080/"
        },
        "id": "C36gojZgH-8E",
        "outputId": "eb3a668d-029e-44ff-b7ad-a30b349ea039"
      },
      "execution_count": null,
      "outputs": [
        {
          "output_type": "stream",
          "name": "stdout",
          "text": [
            "value1\n",
            "value_9000\n"
          ]
        }
      ]
    },
    {
      "cell_type": "code",
      "source": [
        "example_dictionary['key3'] = 7\n",
        "example_dictionary['12345'] = 'seven'\n",
        "print(example_dictionary['key3'])\n",
        "print(example_dictionary['12345'])"
      ],
      "metadata": {
        "id": "cgmZiXuIIcNs",
        "colab": {
          "base_uri": "https://localhost:8080/"
        },
        "outputId": "e6e1f50a-15d8-4ab7-e57d-b89bba00a8d2"
      },
      "execution_count": null,
      "outputs": [
        {
          "output_type": "stream",
          "name": "stdout",
          "text": [
            "7\n",
            "seven\n"
          ]
        }
      ]
    },
    {
      "cell_type": "code",
      "source": [
        "print(example_dictionary['key4'])"
      ],
      "metadata": {
        "colab": {
          "base_uri": "https://localhost:8080/",
          "height": 169
        },
        "id": "qzLCdEg9IdBc",
        "outputId": "7f51afd4-95c5-43f5-8dea-a67742a11e53"
      },
      "execution_count": null,
      "outputs": [
        {
          "output_type": "error",
          "ename": "KeyError",
          "evalue": "ignored",
          "traceback": [
            "\u001b[0;31m---------------------------------------------------------------------------\u001b[0m",
            "\u001b[0;31mKeyError\u001b[0m                                  Traceback (most recent call last)",
            "\u001b[0;32m<ipython-input-76-3f532e57dfd8>\u001b[0m in \u001b[0;36m<module>\u001b[0;34m\u001b[0m\n\u001b[0;32m----> 1\u001b[0;31m \u001b[0mprint\u001b[0m\u001b[0;34m(\u001b[0m\u001b[0mexample_dictionary\u001b[0m\u001b[0;34m[\u001b[0m\u001b[0;34m'key4'\u001b[0m\u001b[0;34m]\u001b[0m\u001b[0;34m)\u001b[0m\u001b[0;34m\u001b[0m\u001b[0;34m\u001b[0m\u001b[0m\n\u001b[0m",
            "\u001b[0;31mKeyError\u001b[0m: 'key4'"
          ]
        }
      ]
    },
    {
      "cell_type": "markdown",
      "source": [
        "# Sets"
      ],
      "metadata": {
        "id": "qsgZ0pN9W_-m"
      }
    },
    {
      "cell_type": "code",
      "source": [
        "a = set([1,2,2,2])\n",
        "b = set([1,2])\n",
        "a == b"
      ],
      "metadata": {
        "colab": {
          "base_uri": "https://localhost:8080/"
        },
        "id": "RL3dYNfUEbKm",
        "outputId": "3d2c55ea-4c74-4ccb-dcc6-40dea91cc916"
      },
      "execution_count": null,
      "outputs": [
        {
          "output_type": "stream",
          "name": "stdout",
          "text": [
            "{1, 2}\n"
          ]
        }
      ]
    },
    {
      "cell_type": "code",
      "source": [
        "example_set = {'value1', 'value2',4,5.5}\n",
        "print(3 in example_set)\n",
        "example_set.add(3)\n",
        "print(3 in example_set)\n",
        "print(5.5 in example_set)"
      ],
      "metadata": {
        "colab": {
          "base_uri": "https://localhost:8080/"
        },
        "id": "x1BgbpSMIvSs",
        "outputId": "56b0a711-95b0-45f8-9bd7-f9e0d83f814c"
      },
      "execution_count": null,
      "outputs": [
        {
          "output_type": "stream",
          "name": "stdout",
          "text": [
            "False\n",
            "True\n",
            "True\n"
          ]
        }
      ]
    },
    {
      "cell_type": "code",
      "source": [
        "example_set.add('value1') # idempotency\n",
        "example_set.add(3)\n",
        "example_set.add(3)\n",
        "example_set.add(3)"
      ],
      "metadata": {
        "id": "Gkckz654I8lT"
      },
      "execution_count": null,
      "outputs": []
    },
    {
      "cell_type": "code",
      "source": [
        "print(example_set)"
      ],
      "metadata": {
        "colab": {
          "base_uri": "https://localhost:8080/"
        },
        "id": "3QLJG0ADJBsb",
        "outputId": "ab51b6f0-dafa-4570-edd3-9da067c51dfe"
      },
      "execution_count": null,
      "outputs": [
        {
          "output_type": "stream",
          "name": "stdout",
          "text": [
            "{3, 'value2', 5.5, 4, 'value1'}\n"
          ]
        }
      ]
    },
    {
      "cell_type": "code",
      "source": [
        "example_set.remove(3)\n",
        "print(example_set)"
      ],
      "metadata": {
        "colab": {
          "base_uri": "https://localhost:8080/"
        },
        "id": "AHVswoq6JK-e",
        "outputId": "19a73479-3d7a-4cc6-fc2a-d5c70686c8e9"
      },
      "execution_count": null,
      "outputs": [
        {
          "output_type": "stream",
          "name": "stdout",
          "text": [
            "{'value2', 5.5, 4, 'value1'}\n"
          ]
        }
      ]
    },
    {
      "cell_type": "markdown",
      "source": [
        "# Loops"
      ],
      "metadata": {
        "id": "FAAP3PXWWwHO"
      }
    },
    {
      "cell_type": "code",
      "source": [
        "z = 5\n",
        "while z < 10: # loop invariant\n",
        "  print(z)\n",
        "  z = z + 1"
      ],
      "metadata": {
        "colab": {
          "base_uri": "https://localhost:8080/"
        },
        "id": "45lKzEq2ibjM",
        "outputId": "d91025cb-8a69-49fd-b330-3ac6c82d8d4b"
      },
      "execution_count": null,
      "outputs": [
        {
          "output_type": "stream",
          "name": "stdout",
          "text": [
            "5\n",
            "6\n",
            "7\n",
            "8\n",
            "9\n"
          ]
        }
      ]
    },
    {
      "cell_type": "code",
      "source": [
        "z = range(0)\n",
        "print(f'type(z) == {type(z)}')\n",
        "print(f'range(5) == {range(5)}')"
      ],
      "metadata": {
        "colab": {
          "base_uri": "https://localhost:8080/"
        },
        "id": "mXdDWQ00i8vh",
        "outputId": "43daa02e-72af-4605-cb4d-d5fdc00011a8"
      },
      "execution_count": null,
      "outputs": [
        {
          "output_type": "stream",
          "name": "stdout",
          "text": [
            "type(z) == <class 'range'>\n",
            "range(5) == range(0, 5)\n"
          ]
        }
      ]
    },
    {
      "cell_type": "code",
      "source": [
        "for i in range(3):\n",
        "  print(i)"
      ],
      "metadata": {
        "colab": {
          "base_uri": "https://localhost:8080/"
        },
        "id": "6Bm3pF--ioph",
        "outputId": "84237254-45fa-43e3-86e6-d9752c223c1c"
      },
      "execution_count": null,
      "outputs": [
        {
          "output_type": "stream",
          "name": "stdout",
          "text": [
            "0\n",
            "1\n",
            "2\n"
          ]
        }
      ]
    },
    {
      "cell_type": "code",
      "source": [
        "for i in range(10):\n",
        "  if i % 2 == 0:\n",
        "    print(i)"
      ],
      "metadata": {
        "colab": {
          "base_uri": "https://localhost:8080/"
        },
        "id": "X2iom2qJjcJg",
        "outputId": "8901da96-bf92-4c99-b52d-88226ac5214e"
      },
      "execution_count": null,
      "outputs": [
        {
          "output_type": "stream",
          "name": "stdout",
          "text": [
            "0\n",
            "2\n",
            "4\n",
            "6\n",
            "8\n"
          ]
        }
      ]
    },
    {
      "cell_type": "code",
      "source": [
        "for i in range(10):\n",
        "  if i % 2 == 0:\n",
        "    print(i)\n",
        "  elif i % 3 == 0:\n",
        "    print(i * 2)\n",
        "  else:\n",
        "    print(\"--\")"
      ],
      "metadata": {
        "colab": {
          "base_uri": "https://localhost:8080/"
        },
        "id": "Em5z2jP-IXIn",
        "outputId": "696aae97-f4d2-4041-80fe-4cbef3fa3d84"
      },
      "execution_count": null,
      "outputs": [
        {
          "output_type": "stream",
          "name": "stdout",
          "text": [
            "0\n",
            "--\n",
            "2\n",
            "6\n",
            "4\n",
            "--\n",
            "6\n",
            "--\n",
            "8\n",
            "18\n"
          ]
        }
      ]
    },
    {
      "cell_type": "markdown",
      "source": [
        "Comprehensions"
      ],
      "metadata": {
        "id": "hLAJAtI0WzXf"
      }
    },
    {
      "cell_type": "code",
      "source": [
        "# list \"comprehension\" is an example of \"pythonic\" thinking\n",
        "[print(i) for i in range(10) if i % 2 == 0]"
      ],
      "metadata": {
        "colab": {
          "base_uri": "https://localhost:8080/"
        },
        "id": "cdijz4gTk4Ct",
        "outputId": "5b11af4b-bc48-4b7c-81b1-ce8d0287d4cc"
      },
      "execution_count": null,
      "outputs": [
        {
          "output_type": "stream",
          "name": "stdout",
          "text": [
            "0\n",
            "2\n",
            "4\n",
            "6\n",
            "8\n"
          ]
        },
        {
          "output_type": "execute_result",
          "data": {
            "text/plain": [
              "[None, None, None, None, None]"
            ]
          },
          "metadata": {},
          "execution_count": 90
        }
      ]
    },
    {
      "cell_type": "code",
      "source": [
        "# the list of \"None\" is returned above because print() prints but does not return a value\n",
        "print([i for i in range(10) if i % 2 == 0])"
      ],
      "metadata": {
        "colab": {
          "base_uri": "https://localhost:8080/"
        },
        "id": "8zyqtdhgjl0-",
        "outputId": "489759ba-ee60-4281-aca5-f97f4308e8db"
      },
      "execution_count": null,
      "outputs": [
        {
          "output_type": "stream",
          "name": "stdout",
          "text": [
            "[0, 2, 4, 6, 8]\n"
          ]
        }
      ]
    },
    {
      "cell_type": "code",
      "source": [
        "# chain elses in a comprehension for conditional logic\n",
        "print([i if i % 2 == 0 else i * 2 if i % 3 == 0 else \"--\" for i in range(10)])"
      ],
      "metadata": {
        "colab": {
          "base_uri": "https://localhost:8080/"
        },
        "id": "AkDJlM42JMCm",
        "outputId": "69a17fea-836f-4df1-9428-584304621ba1"
      },
      "execution_count": null,
      "outputs": [
        {
          "output_type": "stream",
          "name": "stdout",
          "text": [
            "[0, '--', 2, 6, 4, '--', 6, '--', 8, 18]\n"
          ]
        }
      ]
    },
    {
      "cell_type": "markdown",
      "source": [
        "Control Flow"
      ],
      "metadata": {
        "id": "Y9eqRxVZW2IP"
      }
    },
    {
      "cell_type": "code",
      "source": [
        "for x in range(10):\n",
        "    if x == 8:\n",
        "        print(\"8!\")\n",
        "        continue\n",
        "    print(\"not 8!\")\n"
      ],
      "metadata": {
        "colab": {
          "base_uri": "https://localhost:8080/"
        },
        "id": "6qkbi5QyJu3r",
        "outputId": "8137dc26-7ead-470e-923e-b5541fcc420a"
      },
      "execution_count": null,
      "outputs": [
        {
          "output_type": "stream",
          "name": "stdout",
          "text": [
            "not 8!\n",
            "not 8!\n",
            "not 8!\n",
            "not 8!\n",
            "not 8!\n",
            "not 8!\n",
            "not 8!\n",
            "not 8!\n",
            "8!\n",
            "not 8!\n"
          ]
        }
      ]
    },
    {
      "cell_type": "markdown",
      "source": [
        "# Functions"
      ],
      "metadata": {
        "id": "evQnbd7VXg61"
      }
    },
    {
      "cell_type": "code",
      "source": [
        "# a function with a return value and zero parameters\n",
        "def function1():\n",
        "  return 1\n",
        "\n",
        "z = function1()\n",
        "\n",
        "print(f'function1 returned {z}')"
      ],
      "metadata": {
        "colab": {
          "base_uri": "https://localhost:8080/"
        },
        "id": "QSXAwTplwfGD",
        "outputId": "5253ffb5-c26a-4183-b92e-9cdd23b00914"
      },
      "execution_count": null,
      "outputs": [
        {
          "output_type": "stream",
          "name": "stdout",
          "text": [
            "function1 returned 1\n"
          ]
        }
      ]
    },
    {
      "cell_type": "code",
      "source": [
        "#Some languages might refer to code like this as a \"procedure\" because it does not appear to return a value.\n",
        "#In python, this returns None and is correctly referred to as a \"function\".\n",
        "def function2():\n",
        "  print(\"hello2\")\n",
        "\n",
        "x = 100\n",
        "\n",
        "print(f'x is set to {x}')\n",
        "\n",
        "x = function2()\n",
        "\n",
        "print(f'function2 returned {x}')"
      ],
      "metadata": {
        "colab": {
          "base_uri": "https://localhost:8080/"
        },
        "id": "TmqnjkWjw1TT",
        "outputId": "5520e1dc-ccb6-4c8a-9ef7-682b8a793f46"
      },
      "execution_count": null,
      "outputs": [
        {
          "output_type": "stream",
          "name": "stdout",
          "text": [
            "x is set to 100\n",
            "hello2\n",
            "function2 returned None\n"
          ]
        }
      ]
    },
    {
      "cell_type": "code",
      "source": [
        "# function with a parameter\n",
        "def function3(parameterA):\n",
        "  z_string = f'ZZZ - {parameterA} - ZZZ'\n",
        "  return z_string\n",
        "\n",
        "argumentA = \"im sleep\" # the argument is \"im sleep\"\n",
        "\n",
        "output = function3(argumentA) # we would say the argument is \"passed\" to the function\n",
        "\n",
        "print(output)"
      ],
      "metadata": {
        "colab": {
          "base_uri": "https://localhost:8080/"
        },
        "id": "Q1yHjkRRyEbC",
        "outputId": "0006917d-4aff-477d-d8d6-0fcd62b0b0a9"
      },
      "execution_count": null,
      "outputs": [
        {
          "output_type": "stream",
          "name": "stdout",
          "text": [
            "ZZZ - im sleep - ZZZ\n"
          ]
        }
      ]
    },
    {
      "cell_type": "code",
      "source": [
        "def square_if_odd(n):\n",
        "    if n % 2 != 0:\n",
        "        return n * n\n",
        "    return n\n",
        "\n",
        "print(square_if_odd(2))\n",
        "print(square_if_odd(3))\n",
        "print(square_if_odd(4))\n",
        "print(square_if_odd(5))"
      ],
      "metadata": {
        "colab": {
          "base_uri": "https://localhost:8080/"
        },
        "id": "kp5Kw7SBLmNi",
        "outputId": "b212c5b4-e05b-492e-803a-c29ca02165c5"
      },
      "execution_count": null,
      "outputs": [
        {
          "output_type": "stream",
          "name": "stdout",
          "text": [
            "2\n",
            "9\n",
            "4\n",
            "25\n"
          ]
        }
      ]
    },
    {
      "cell_type": "code",
      "source": [
        "def add_three_numbers(a,b,c):\n",
        "  return a + b + c\n",
        "\n",
        "add_three_numbers(1,2,10)"
      ],
      "metadata": {
        "colab": {
          "base_uri": "https://localhost:8080/"
        },
        "id": "NFQ8TuCUlbIK",
        "outputId": "ea59c547-81cc-4bf0-e16b-f9368aee46b6"
      },
      "execution_count": null,
      "outputs": [
        {
          "output_type": "execute_result",
          "data": {
            "text/plain": [
              "13"
            ]
          },
          "metadata": {},
          "execution_count": 98
        }
      ]
    },
    {
      "cell_type": "code",
      "source": [
        "def add_two_or_three_numbers(a,b,c=0): #functions allow positional and optional keyword arguments\n",
        "  return a + b + c\n",
        "\n",
        "print(add_two_or_three_numbers(5,20, 1))\n",
        "print(add_two_or_three_numbers(5,20))"
      ],
      "metadata": {
        "colab": {
          "base_uri": "https://localhost:8080/"
        },
        "id": "cU2aduaVKJZL",
        "outputId": "4845e69b-3919-448a-a793-2613c4b5c707"
      },
      "execution_count": null,
      "outputs": [
        {
          "output_type": "stream",
          "name": "stdout",
          "text": [
            "26\n",
            "25\n"
          ]
        }
      ]
    },
    {
      "cell_type": "markdown",
      "source": [
        "An error occurs if functions are called without valid arguments"
      ],
      "metadata": {
        "id": "inRQgdeYXmd1"
      }
    },
    {
      "cell_type": "code",
      "source": [
        "print(add_two_or_three_numbers(5))"
      ],
      "metadata": {
        "colab": {
          "base_uri": "https://localhost:8080/",
          "height": 169
        },
        "id": "Lgc6EsZcKZVM",
        "outputId": "e0eed7ad-8632-42eb-8f80-3f703df68472"
      },
      "execution_count": null,
      "outputs": [
        {
          "output_type": "error",
          "ename": "TypeError",
          "evalue": "ignored",
          "traceback": [
            "\u001b[0;31m---------------------------------------------------------------------------\u001b[0m",
            "\u001b[0;31mTypeError\u001b[0m                                 Traceback (most recent call last)",
            "\u001b[0;32m<ipython-input-100-82183548fe5b>\u001b[0m in \u001b[0;36m<module>\u001b[0;34m\u001b[0m\n\u001b[0;32m----> 1\u001b[0;31m \u001b[0mprint\u001b[0m\u001b[0;34m(\u001b[0m\u001b[0madd_two_or_three_numbers\u001b[0m\u001b[0;34m(\u001b[0m\u001b[0;36m5\u001b[0m\u001b[0;34m)\u001b[0m\u001b[0;34m)\u001b[0m\u001b[0;34m\u001b[0m\u001b[0;34m\u001b[0m\u001b[0m\n\u001b[0m",
            "\u001b[0;31mTypeError\u001b[0m: add_two_or_three_numbers() missing 1 required positional argument: 'b'"
          ]
        }
      ]
    },
    {
      "cell_type": "code",
      "source": [
        "def mult_and_sub(a,b):\n",
        "  return a * b - a - b\n",
        "\n",
        "p = [1]\n",
        "q = [3]\n",
        "z = map(mult_and_sub,p,q)\n",
        "\n",
        "print(f'first call returns {list(z)}')\n",
        "\n",
        "p = [1,2,-1]\n",
        "q = [3,4,10]\n",
        "z = map(mult_and_sub,p,q)\n",
        "\n",
        "print(f'second call returns {list(z)}')"
      ],
      "metadata": {
        "colab": {
          "base_uri": "https://localhost:8080/"
        },
        "id": "31bDewt_np5j",
        "outputId": "b192e2c1-6320-4bb5-c4e4-d3ab1239ee81"
      },
      "execution_count": null,
      "outputs": [
        {
          "output_type": "stream",
          "name": "stdout",
          "text": [
            "first call returns [-1]\n",
            "second call returns [-1, 2, -19]\n"
          ]
        }
      ]
    },
    {
      "cell_type": "markdown",
      "source": [
        "# The random module"
      ],
      "metadata": {
        "id": "YG8E6gHNX5no"
      }
    },
    {
      "cell_type": "code",
      "source": [
        "import random\n",
        "\n",
        "def randomly_select_number(a,b,c):\n",
        "  return random.choice([a,b,c])\n",
        "\n",
        "randomly_select_number(1,2,10)"
      ],
      "metadata": {
        "colab": {
          "base_uri": "https://localhost:8080/"
        },
        "id": "CziA0-onlr54",
        "outputId": "9251faa9-95eb-4528-a0a2-c9fb37249408"
      },
      "execution_count": null,
      "outputs": [
        {
          "output_type": "execute_result",
          "data": {
            "text/plain": [
              "1"
            ]
          },
          "metadata": {},
          "execution_count": 109
        }
      ]
    },
    {
      "cell_type": "code",
      "source": [
        "help(random)"
      ],
      "metadata": {
        "id": "ZYdM9m-JmT6q"
      },
      "execution_count": null,
      "outputs": []
    },
    {
      "cell_type": "code",
      "source": [
        "from random import randint as ri\n",
        "a = 1\n",
        "b = 100\n",
        "print(f'a random number from {a} to {b}: {ri(a,b)}')"
      ],
      "metadata": {
        "colab": {
          "base_uri": "https://localhost:8080/"
        },
        "id": "TdP0zs-n4UI7",
        "outputId": "2f4dc9ef-17b3-4db4-ad62-af83c9ca1eb7"
      },
      "execution_count": null,
      "outputs": [
        {
          "output_type": "stream",
          "name": "stdout",
          "text": [
            "a random number from 1 to 100: 90\n"
          ]
        }
      ]
    },
    {
      "cell_type": "code",
      "source": [
        "random.random()"
      ],
      "metadata": {
        "colab": {
          "base_uri": "https://localhost:8080/"
        },
        "id": "vzgG7qW_c2iQ",
        "outputId": "a6cf99b4-3ce3-4b92-b03a-8a9b24a8a671"
      },
      "execution_count": null,
      "outputs": [
        {
          "output_type": "execute_result",
          "data": {
            "text/plain": [
              "0.9231546252181674"
            ]
          },
          "metadata": {},
          "execution_count": 122
        }
      ]
    },
    {
      "cell_type": "code",
      "source": [
        "random.seed(123)\n",
        "print(random.random())\n",
        "print(random.random())\n",
        "print(random.random())"
      ],
      "metadata": {
        "colab": {
          "base_uri": "https://localhost:8080/"
        },
        "id": "tu8-F6GvdNG7",
        "outputId": "41ea1c88-d849-41df-9cdb-169ae9876b0d"
      },
      "execution_count": null,
      "outputs": [
        {
          "output_type": "stream",
          "name": "stdout",
          "text": [
            "0.052363598850944326\n",
            "0.08718667752263232\n",
            "0.4072417636703983\n"
          ]
        }
      ]
    },
    {
      "cell_type": "code",
      "source": [
        "import random as rnd\n",
        "print(f'first call returns {rnd.random()}')\n",
        "\n",
        "import random as abcdef123\n",
        "print(f'second call returns {abcdef123.random()}')\n",
        "\n",
        "print(f'third call returns {random.random()}')"
      ],
      "metadata": {
        "colab": {
          "base_uri": "https://localhost:8080/"
        },
        "id": "Ei4dRuv4pCSE",
        "outputId": "681987aa-9668-4c44-bf74-d7885408404e"
      },
      "execution_count": null,
      "outputs": [
        {
          "output_type": "stream",
          "name": "stdout",
          "text": [
            "first call returns 0.09276456137849509\n",
            "second call returns 0.14217506443150107\n",
            "third call returns 0.7900718443588016\n"
          ]
        }
      ]
    },
    {
      "cell_type": "markdown",
      "source": [
        "# The re module"
      ],
      "metadata": {
        "id": "6UTlS7iGYCA9"
      }
    },
    {
      "cell_type": "code",
      "source": [
        "import re\n",
        "txt = \"this is an example of a multi-character string with several words for \\\n",
        "the regular expression package demonstration in a simple introduction to python\\\n",
        " tutorial without paying attention to grammar\"\n",
        "pattrn = re.compile(\"[\\s+]([a-zA-Z]+ing)[\\s+]([a-zA-Z]+)\",flags=0)\n",
        "for match in pattrn.finditer(txt):\n",
        "  print(match.groups())\n",
        "  print(match.group(1))"
      ],
      "metadata": {
        "colab": {
          "base_uri": "https://localhost:8080/"
        },
        "id": "oHnNTy2yERKe",
        "outputId": "3a5b2136-f7d0-457e-ea74-64cf011a6611"
      },
      "execution_count": null,
      "outputs": [
        {
          "output_type": "stream",
          "name": "stdout",
          "text": [
            "('string', 'with')\n",
            "string\n",
            "('paying', 'attention')\n",
            "paying\n"
          ]
        }
      ]
    },
    {
      "cell_type": "code",
      "source": [
        "help(re)"
      ],
      "metadata": {
        "id": "L802yPsvYJ-9"
      },
      "execution_count": null,
      "outputs": []
    },
    {
      "cell_type": "markdown",
      "source": [
        "# File I/O"
      ],
      "metadata": {
        "id": "VLMxZeQwYWod"
      }
    },
    {
      "cell_type": "code",
      "source": [
        "file_name = \"text_file.txt\"\n",
        "file_pointer = open(file_name,'w')\n",
        "print(f\"is it closed? {file_pointer.closed}\")\n",
        "file_pointer.close()\n",
        "print(f\"is it closed? {file_pointer.closed}\")"
      ],
      "metadata": {
        "colab": {
          "base_uri": "https://localhost:8080/"
        },
        "id": "eTE6HQvxNTwC",
        "outputId": "e8a350c0-40a5-49cd-82d8-3979e1f94d8c"
      },
      "execution_count": null,
      "outputs": [
        {
          "output_type": "stream",
          "name": "stdout",
          "text": [
            "is it closed? False\n",
            "is it closed? True\n"
          ]
        }
      ]
    },
    {
      "cell_type": "code",
      "source": [
        "new_file = open('example.txt','w')\n",
        "new_file.write(\"this is sample text!\")\n",
        "new_file.close()\n",
        "\n",
        "existing_file = open('example.txt','r') \n",
        "x = existing_file.readline()\n",
        "existing_file.close()\n",
        "\n",
        "print(f'x is now set to {x}')\n",
        "\n",
        "print(new_file.closed)\n",
        "print(existing_file.closed)"
      ],
      "metadata": {
        "colab": {
          "base_uri": "https://localhost:8080/"
        },
        "id": "bmvx-YNFPGSR",
        "outputId": "a99fbf2f-6dc0-4a2f-c792-2d7875ac01a0"
      },
      "execution_count": null,
      "outputs": [
        {
          "output_type": "stream",
          "name": "stdout",
          "text": [
            "x is now set to this is sample text!\n",
            "True\n",
            "True\n"
          ]
        }
      ]
    },
    {
      "cell_type": "code",
      "source": [
        "file_pointer = open(file_name,'w')\n",
        "try:\n",
        "    file_pointer.write(\"aaaaaaaaa\\nbbbbbbbbbb\\nccccccccccc\\n\")\n",
        "finally:\n",
        "    file_pointer.close()"
      ],
      "metadata": {
        "id": "5l1Gs3ctLES-"
      },
      "execution_count": null,
      "outputs": []
    },
    {
      "cell_type": "code",
      "source": [
        "file_pointer = open(file_name,'r')\n",
        "try:\n",
        "  print(f'first line = {file_pointer.readline()}')\n",
        "finally:\n",
        "  file_pointer.close()"
      ],
      "metadata": {
        "colab": {
          "base_uri": "https://localhost:8080/"
        },
        "id": "8eI-8BdALlCj",
        "outputId": "b3b57666-0e3d-4bff-b332-e8df38c66014"
      },
      "execution_count": null,
      "outputs": [
        {
          "output_type": "stream",
          "name": "stdout",
          "text": [
            "first line = aaaaaaaaa\n",
            "\n"
          ]
        }
      ]
    },
    {
      "cell_type": "code",
      "source": [
        "import sys # catch and print file I/O exceptions\n",
        "\n",
        "file_pointer = open(file_name,'r')\n",
        "try:\n",
        "  print(f'file text = {file_pointer.readlines()}')\n",
        "  file_pointer.write(\"zzzzzzzz!!!!!!\")\n",
        "except:\n",
        "  print(f\"an exception occurred: {sys.exc_info()[0]}...\")\n",
        "finally:\n",
        "  file_pointer.close()\n",
        "  print(f'closed the {file_name} file pointer')"
      ],
      "metadata": {
        "colab": {
          "base_uri": "https://localhost:8080/"
        },
        "id": "SSHLYlQAL30a",
        "outputId": "76fd0f43-593d-44d6-cdfe-4cd837ae6d29"
      },
      "execution_count": null,
      "outputs": [
        {
          "output_type": "stream",
          "name": "stdout",
          "text": [
            "file text = ['aaaaaaaaa\\n', 'bbbbbbbbbb\\n', 'ccccccccccc\\n']\n",
            "an exception occurred: <class 'io.UnsupportedOperation'>...\n",
            "closed the text_file.txt file pointer\n"
          ]
        }
      ]
    },
    {
      "cell_type": "code",
      "source": [
        "# with encapsulates the open() function and \n",
        "# can be used instead of the try/finally syntax above\n",
        "with open(file_name, 'r') as file_pointer2:\n",
        "  print(file_pointer2.readline())\n",
        "  print(file_pointer2.readline())\n",
        "\n",
        "print(f\"closed? {file_pointer2.closed}\")"
      ],
      "metadata": {
        "colab": {
          "base_uri": "https://localhost:8080/"
        },
        "id": "TjSocZKeM-9D",
        "outputId": "d4b35d8b-9e8d-4082-9332-a4a5df27ecb2"
      },
      "execution_count": null,
      "outputs": [
        {
          "output_type": "stream",
          "name": "stdout",
          "text": [
            "aaaaaaaaa\n",
            "\n",
            "bbbbbbbbbb\n",
            "\n",
            "closed? True\n"
          ]
        }
      ]
    },
    {
      "cell_type": "markdown",
      "source": [
        "with will show exceptions"
      ],
      "metadata": {
        "id": "ZLW8RuZ4Yas8"
      }
    },
    {
      "cell_type": "code",
      "source": [
        "with open(file_name, 'r') as file_pointer3:\n",
        "  print(file_pointer3.readline())\n",
        "  print(file_pointer3.readline())\n",
        "  file_pointer3.write(\"zzzzzz\")\n",
        "\n"
      ],
      "metadata": {
        "colab": {
          "base_uri": "https://localhost:8080/",
          "height": 294
        },
        "id": "HGco74NwNOyi",
        "outputId": "43a5cfc7-94f0-4b96-d169-36a22fd5118d"
      },
      "execution_count": null,
      "outputs": [
        {
          "output_type": "stream",
          "name": "stdout",
          "text": [
            "aaaaaaaaa\n",
            "\n",
            "bbbbbbbbbb\n",
            "\n"
          ]
        },
        {
          "output_type": "error",
          "ename": "UnsupportedOperation",
          "evalue": "ignored",
          "traceback": [
            "\u001b[0;31m---------------------------------------------------------------------------\u001b[0m",
            "\u001b[0;31mUnsupportedOperation\u001b[0m                      Traceback (most recent call last)",
            "\u001b[0;32m<ipython-input-150-305551ecb49c>\u001b[0m in \u001b[0;36m<module>\u001b[0;34m\u001b[0m\n\u001b[1;32m      2\u001b[0m   \u001b[0mprint\u001b[0m\u001b[0;34m(\u001b[0m\u001b[0mfile_pointer3\u001b[0m\u001b[0;34m.\u001b[0m\u001b[0mreadline\u001b[0m\u001b[0;34m(\u001b[0m\u001b[0;34m)\u001b[0m\u001b[0;34m)\u001b[0m\u001b[0;34m\u001b[0m\u001b[0;34m\u001b[0m\u001b[0m\n\u001b[1;32m      3\u001b[0m   \u001b[0mprint\u001b[0m\u001b[0;34m(\u001b[0m\u001b[0mfile_pointer3\u001b[0m\u001b[0;34m.\u001b[0m\u001b[0mreadline\u001b[0m\u001b[0;34m(\u001b[0m\u001b[0;34m)\u001b[0m\u001b[0;34m)\u001b[0m\u001b[0;34m\u001b[0m\u001b[0;34m\u001b[0m\u001b[0m\n\u001b[0;32m----> 4\u001b[0;31m   \u001b[0mfile_pointer3\u001b[0m\u001b[0;34m.\u001b[0m\u001b[0mwrite\u001b[0m\u001b[0;34m(\u001b[0m\u001b[0;34m\"zzzzzz\"\u001b[0m\u001b[0;34m)\u001b[0m\u001b[0;34m\u001b[0m\u001b[0;34m\u001b[0m\u001b[0m\n\u001b[0m\u001b[1;32m      5\u001b[0m \u001b[0;34m\u001b[0m\u001b[0m\n",
            "\u001b[0;31mUnsupportedOperation\u001b[0m: not writable"
          ]
        }
      ]
    },
    {
      "cell_type": "markdown",
      "source": [
        "and with will still close file pointers"
      ],
      "metadata": {
        "id": "g0Xn-ikYYfDE"
      }
    },
    {
      "cell_type": "code",
      "source": [
        "print(f\"closed? {file_pointer3.closed}\")"
      ],
      "metadata": {
        "colab": {
          "base_uri": "https://localhost:8080/"
        },
        "id": "APogrd9fOvwi",
        "outputId": "0aba8790-4e4c-414c-faaf-c89a22528a9d"
      },
      "execution_count": null,
      "outputs": [
        {
          "output_type": "stream",
          "name": "stdout",
          "text": [
            "closed? True\n"
          ]
        }
      ]
    },
    {
      "cell_type": "markdown",
      "source": [
        "# The NumPy module"
      ],
      "metadata": {
        "id": "sZBqUGjlYjJN"
      }
    },
    {
      "cell_type": "code",
      "source": [
        "import numpy as np # using \"np\" for the numpy package is a common convention\n",
        "\n",
        "array1 = np.array([0,1,2])\n",
        "type(array1)"
      ],
      "metadata": {
        "colab": {
          "base_uri": "https://localhost:8080/"
        },
        "id": "NOpMGI4TPTs6",
        "outputId": "169c7429-cbdf-4968-8e6d-036d7b306834"
      },
      "execution_count": null,
      "outputs": [
        {
          "output_type": "execute_result",
          "data": {
            "text/plain": [
              "numpy.ndarray"
            ]
          },
          "metadata": {},
          "execution_count": 152
        }
      ]
    },
    {
      "cell_type": "markdown",
      "source": [
        "there's plenty of online documentation at https://numpy.org/"
      ],
      "metadata": {
        "id": "8dJEEyOlZMW1"
      }
    },
    {
      "cell_type": "code",
      "source": [
        "help(np)"
      ],
      "metadata": {
        "id": "C3p9l1P6Pnaj"
      },
      "execution_count": null,
      "outputs": []
    },
    {
      "cell_type": "code",
      "source": [
        "array2 = np.array([[10,20,30],[40,50,60]])\n",
        "type(array2)"
      ],
      "metadata": {
        "colab": {
          "base_uri": "https://localhost:8080/"
        },
        "id": "D3mHNudIP4dZ",
        "outputId": "865e673f-52cf-4551-cb04-9a9388eb4a7f"
      },
      "execution_count": null,
      "outputs": [
        {
          "output_type": "execute_result",
          "data": {
            "text/plain": [
              "numpy.ndarray"
            ]
          },
          "metadata": {},
          "execution_count": 154
        }
      ]
    },
    {
      "cell_type": "code",
      "source": [
        "print(array1.shape)\n",
        "print(array2.shape)"
      ],
      "metadata": {
        "colab": {
          "base_uri": "https://localhost:8080/"
        },
        "id": "Z9KmbKc5QS0Y",
        "outputId": "cc0d2084-315c-4482-a78f-aa523456a6c8"
      },
      "execution_count": null,
      "outputs": [
        {
          "output_type": "stream",
          "name": "stdout",
          "text": [
            "(3,)\n",
            "(2, 3)\n"
          ]
        }
      ]
    },
    {
      "cell_type": "code",
      "source": [
        "print(array1[0:2])\n",
        "print(array1[0:3])"
      ],
      "metadata": {
        "colab": {
          "base_uri": "https://localhost:8080/"
        },
        "id": "crB1ZP-sQluQ",
        "outputId": "14c4bd58-593f-40b1-a1b6-67fd2f923faf"
      },
      "execution_count": null,
      "outputs": [
        {
          "output_type": "stream",
          "name": "stdout",
          "text": [
            "[0 1]\n",
            "[0 1 2]\n"
          ]
        }
      ]
    },
    {
      "cell_type": "markdown",
      "source": [
        "We can do this"
      ],
      "metadata": {
        "id": "DzKdXfxeZa5s"
      }
    },
    {
      "cell_type": "code",
      "source": [
        "print(array1[0:100])"
      ],
      "metadata": {
        "colab": {
          "base_uri": "https://localhost:8080/"
        },
        "id": "dE-3bmD4QrFQ",
        "outputId": "ec28cfcc-907d-4ec6-cbfc-068cad129e39"
      },
      "execution_count": null,
      "outputs": [
        {
          "output_type": "stream",
          "name": "stdout",
          "text": [
            "[0 1 2]\n"
          ]
        }
      ]
    },
    {
      "cell_type": "markdown",
      "source": [
        "We can't actually access those indices"
      ],
      "metadata": {
        "id": "d-se2wGxZTbV"
      }
    },
    {
      "cell_type": "code",
      "source": [
        "print(array1[100])"
      ],
      "metadata": {
        "colab": {
          "base_uri": "https://localhost:8080/",
          "height": 169
        },
        "id": "VRLX8FtoQucA",
        "outputId": "4e6d24d4-1a0b-480a-9a7d-d8c539e7f359"
      },
      "execution_count": null,
      "outputs": [
        {
          "output_type": "error",
          "ename": "IndexError",
          "evalue": "ignored",
          "traceback": [
            "\u001b[0;31m---------------------------------------------------------------------------\u001b[0m",
            "\u001b[0;31mIndexError\u001b[0m                                Traceback (most recent call last)",
            "\u001b[0;32m<ipython-input-158-224561fa0fe0>\u001b[0m in \u001b[0;36m<module>\u001b[0;34m\u001b[0m\n\u001b[0;32m----> 1\u001b[0;31m \u001b[0mprint\u001b[0m\u001b[0;34m(\u001b[0m\u001b[0marray1\u001b[0m\u001b[0;34m[\u001b[0m\u001b[0;36m100\u001b[0m\u001b[0;34m]\u001b[0m\u001b[0;34m)\u001b[0m\u001b[0;34m\u001b[0m\u001b[0;34m\u001b[0m\u001b[0m\n\u001b[0m",
            "\u001b[0;31mIndexError\u001b[0m: index 100 is out of bounds for axis 0 with size 3"
          ]
        }
      ]
    },
    {
      "cell_type": "code",
      "source": [
        "print(array2)"
      ],
      "metadata": {
        "colab": {
          "base_uri": "https://localhost:8080/"
        },
        "id": "RlzjORzOQy3R",
        "outputId": "86914143-1f18-4562-edb4-ce34d484be47"
      },
      "execution_count": null,
      "outputs": [
        {
          "output_type": "stream",
          "name": "stdout",
          "text": [
            "[[10 20 30]\n",
            " [40 50 60]]\n"
          ]
        }
      ]
    },
    {
      "cell_type": "code",
      "source": [
        "print(array2[1,1:3])"
      ],
      "metadata": {
        "colab": {
          "base_uri": "https://localhost:8080/"
        },
        "id": "cqyWDc0zQ-PY",
        "outputId": "dafe299d-826f-4fc3-c59d-12212f5eb12a"
      },
      "execution_count": null,
      "outputs": [
        {
          "output_type": "stream",
          "name": "stdout",
          "text": [
            "[50 60]\n"
          ]
        }
      ]
    },
    {
      "cell_type": "code",
      "source": [
        "array3 = np.transpose(array2)"
      ],
      "metadata": {
        "id": "NPFq95NcRdSI"
      },
      "execution_count": null,
      "outputs": []
    },
    {
      "cell_type": "code",
      "source": [
        "print(array3)"
      ],
      "metadata": {
        "colab": {
          "base_uri": "https://localhost:8080/"
        },
        "id": "G8EtJ3cTRiBb",
        "outputId": "7bae9e37-626f-412f-a4a7-88cf2bde979f"
      },
      "execution_count": null,
      "outputs": [
        {
          "output_type": "stream",
          "name": "stdout",
          "text": [
            "[[10 40]\n",
            " [20 50]\n",
            " [30 60]]\n"
          ]
        }
      ]
    },
    {
      "cell_type": "code",
      "source": [
        "print(array3.shape)"
      ],
      "metadata": {
        "colab": {
          "base_uri": "https://localhost:8080/"
        },
        "id": "8-nj_E62Rkih",
        "outputId": "4b22089e-7ec3-4064-a5af-5ace53f13fae"
      },
      "execution_count": null,
      "outputs": [
        {
          "output_type": "stream",
          "name": "stdout",
          "text": [
            "(3, 2)\n"
          ]
        }
      ]
    }
  ]
}